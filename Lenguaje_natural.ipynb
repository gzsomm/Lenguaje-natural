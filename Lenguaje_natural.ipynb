{
  "nbformat": 4,
  "nbformat_minor": 0,
  "metadata": {
    "colab": {
      "provenance": [],
      "authorship_tag": "ABX9TyPAUBf0LsPvItfgEc/jonBJ",
      "include_colab_link": true
    },
    "kernelspec": {
      "name": "python3",
      "display_name": "Python 3"
    },
    "language_info": {
      "name": "python"
    }
  },
  "cells": [
    {
      "cell_type": "markdown",
      "metadata": {
        "id": "view-in-github",
        "colab_type": "text"
      },
      "source": [
        "<a href=\"https://colab.research.google.com/github/gzsomm/Lenguaje-natural/blob/main/Lenguaje_natural.ipynb\" target=\"_parent\"><img src=\"https://colab.research.google.com/assets/colab-badge.svg\" alt=\"Open In Colab\"/></a>"
      ]
    },
    {
      "cell_type": "code",
      "execution_count": 1,
      "metadata": {
        "colab": {
          "base_uri": "https://localhost:8080/"
        },
        "id": "h3QFEo9zYONz",
        "outputId": "bc9c34ba-3166-4ce9-b272-26b6d5af910f"
      },
      "outputs": [
        {
          "output_type": "stream",
          "name": "stdout",
          "text": [
            "                                                 url  is_spam\n",
            "0  https://briefingday.us8.list-manage.com/unsubs...     True\n",
            "1                             https://www.hvper.com/     True\n",
            "2                 https://briefingday.com/m/v4n3i4f3     True\n",
            "3   https://briefingday.com/n/20200618/m#commentform    False\n",
            "4                        https://briefingday.com/fan     True\n"
          ]
        }
      ],
      "source": [
        "import pandas as pd\n",
        "\n",
        "# Cargar el dataset desde URL\n",
        "url = 'https://raw.githubusercontent.com/4GeeksAcademy/NLP-project-tutorial/main/url_spam.csv'\n",
        "df = pd.read_csv(url)\n",
        "\n",
        "# Ver los primeros registros\n",
        "print(df.head())\n"
      ]
    },
    {
      "cell_type": "code",
      "source": [
        "import re\n",
        "import nltk\n",
        "from sklearn.model_selection import train_test_split\n",
        "from sklearn.feature_extraction.text import TfidfVectorizer\n",
        "from nltk.corpus import stopwords\n",
        "from nltk.stem import WordNetLemmatizer\n",
        "\n",
        "nltk.download('punkt')\n",
        "nltk.download('stopwords')\n",
        "nltk.download('wordnet')\n",
        "\n",
        "# Instanciar lematizador y stopwords\n",
        "lemmatizer = WordNetLemmatizer()\n",
        "stop_words = set(stopwords.words('english'))\n",
        "\n",
        "# Función para limpiar y procesar URLs\n",
        "def preprocess_url(url):\n",
        "    # Separar por signos y eliminar caracteres no alfabéticos\n",
        "    tokens = re.split(r'\\W+', url.lower())\n",
        "    # Lematizar y filtrar stopwords\n",
        "    tokens = [lemmatizer.lemmatize(token) for token in tokens if token and token not in stop_words]\n",
        "    return ' '.join(tokens)\n",
        "\n",
        "# Aplicar el procesamiento\n",
        "df['processed_url'] = df['url'].apply(preprocess_url)\n",
        "\n",
        "# Dividir en X (entradas) y y (etiquetas)\n",
        "X = df['processed_url']\n",
        "y = df['is_spam']  # 0 = no spam, 1 = spam\n",
        "\n",
        "# Dividir en entrenamiento y prueba\n",
        "X_train, X_test, y_train, y_test = train_test_split(X, y, test_size=0.2, random_state=42)\n",
        "\n",
        "# Convertir a vectores TF-IDF\n",
        "vectorizer = TfidfVectorizer()\n",
        "X_train_tfidf = vectorizer.fit_transform(X_train)\n",
        "X_test_tfidf = vectorizer.transform(X_test)\n"
      ],
      "metadata": {
        "colab": {
          "base_uri": "https://localhost:8080/"
        },
        "id": "lOxc4bryYUYi",
        "outputId": "a03bfae5-61ec-40cb-878c-58128c140e70"
      },
      "execution_count": 4,
      "outputs": [
        {
          "output_type": "stream",
          "name": "stderr",
          "text": [
            "[nltk_data] Downloading package punkt to /root/nltk_data...\n",
            "[nltk_data]   Package punkt is already up-to-date!\n",
            "[nltk_data] Downloading package stopwords to /root/nltk_data...\n",
            "[nltk_data]   Package stopwords is already up-to-date!\n",
            "[nltk_data] Downloading package wordnet to /root/nltk_data...\n",
            "[nltk_data]   Package wordnet is already up-to-date!\n"
          ]
        }
      ]
    },
    {
      "cell_type": "code",
      "source": [
        "from sklearn.svm import SVC\n",
        "from sklearn.metrics import classification_report\n",
        "\n",
        "# Crear y entrenar modelo SVM\n",
        "svm = SVC()\n",
        "svm.fit(X_train_tfidf, y_train)\n",
        "\n",
        "# Predicción y evaluación\n",
        "y_pred = svm.predict(X_test_tfidf)\n",
        "print(classification_report(y_test, y_pred))\n"
      ],
      "metadata": {
        "colab": {
          "base_uri": "https://localhost:8080/"
        },
        "id": "o_rQB9kVYb3k",
        "outputId": "096df0a1-5967-4df4-db29-b667643d18ac"
      },
      "execution_count": 5,
      "outputs": [
        {
          "output_type": "stream",
          "name": "stdout",
          "text": [
            "              precision    recall  f1-score   support\n",
            "\n",
            "       False       0.96      0.97      0.97       455\n",
            "        True       0.91      0.88      0.89       145\n",
            "\n",
            "    accuracy                           0.95       600\n",
            "   macro avg       0.93      0.92      0.93       600\n",
            "weighted avg       0.95      0.95      0.95       600\n",
            "\n"
          ]
        }
      ]
    },
    {
      "cell_type": "code",
      "source": [
        "from sklearn.model_selection import GridSearchCV\n",
        "\n",
        "# Definir grilla de hiperparámetros\n",
        "param_grid = {\n",
        "    'C': [0.1, 1, 10],\n",
        "    'kernel': ['linear', 'rbf'],\n",
        "    'gamma': ['scale', 'auto']\n",
        "}\n",
        "\n",
        "# Grid search con validación cruzada\n",
        "grid = GridSearchCV(SVC(), param_grid, cv=5, verbose=1, n_jobs=-1)\n",
        "grid.fit(X_train_tfidf, y_train)\n",
        "\n",
        "# Mejor modelo\n",
        "best_model = grid.best_estimator_\n",
        "print(\"Mejores hiperparámetros:\", grid.best_params_)\n",
        "\n",
        "# Evaluar mejor modelo\n",
        "y_pred_opt = best_model.predict(X_test_tfidf)\n",
        "print(classification_report(y_test, y_pred_opt))\n"
      ],
      "metadata": {
        "colab": {
          "base_uri": "https://localhost:8080/"
        },
        "id": "PjFFzc0UY0Ko",
        "outputId": "8d78487a-53fe-45a2-fe10-7836b1909f47"
      },
      "execution_count": 6,
      "outputs": [
        {
          "output_type": "stream",
          "name": "stdout",
          "text": [
            "Fitting 5 folds for each of 12 candidates, totalling 60 fits\n",
            "Mejores hiperparámetros: {'C': 10, 'gamma': 'scale', 'kernel': 'rbf'}\n",
            "              precision    recall  f1-score   support\n",
            "\n",
            "       False       0.98      0.95      0.97       455\n",
            "        True       0.87      0.93      0.90       145\n",
            "\n",
            "    accuracy                           0.95       600\n",
            "   macro avg       0.92      0.94      0.93       600\n",
            "weighted avg       0.95      0.95      0.95       600\n",
            "\n"
          ]
        }
      ]
    },
    {
      "cell_type": "code",
      "source": [
        "import joblib\n",
        "import os\n",
        "\n",
        "# Crear carpeta de modelos si no existe\n",
        "os.makedirs(\"models\", exist_ok=True)\n",
        "\n",
        "# Guardar modelo y vectorizador\n",
        "joblib.dump(best_model, \"models/svm_spam_detector.pkl\")\n",
        "joblib.dump(vectorizer, \"models/tfidf_vectorizer.pkl\")\n"
      ],
      "metadata": {
        "colab": {
          "base_uri": "https://localhost:8080/"
        },
        "id": "4mB-54UuY61M",
        "outputId": "d0e7a08a-cd7a-4ec1-91c5-a238f914936b"
      },
      "execution_count": 7,
      "outputs": [
        {
          "output_type": "execute_result",
          "data": {
            "text/plain": [
              "['models/tfidf_vectorizer.pkl']"
            ]
          },
          "metadata": {},
          "execution_count": 7
        }
      ]
    }
  ]
}